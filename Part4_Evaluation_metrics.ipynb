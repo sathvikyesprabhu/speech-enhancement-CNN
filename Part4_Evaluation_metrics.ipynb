{
 "cells": [
  {
   "cell_type": "code",
   "execution_count": null,
   "metadata": {},
   "outputs": [],
   "source": [
    "!pip3 install https://github.com/ludlows/python-pesq/archive/master.zip"
   ]
  },
  {
   "cell_type": "code",
   "execution_count": 1,
   "metadata": {},
   "outputs": [],
   "source": [
    "import numpy as np\n",
    "from pesq import pesq\n",
    "from scipy.io import wavfile"
   ]
  },
  {
   "cell_type": "code",
   "execution_count": 2,
   "metadata": {},
   "outputs": [],
   "source": [
    "import random\n",
    "random.seed(42)\n",
    "x=random.sample(list(np.arange(2805148)), 1402574)\n",
    "x.sort()"
   ]
  },
  {
   "cell_type": "code",
   "execution_count": 3,
   "metadata": {},
   "outputs": [],
   "source": [
    "num=[\"n3\",0,2,5,7,10]"
   ]
  },
  {
   "cell_type": "code",
   "execution_count": 4,
   "metadata": {},
   "outputs": [
    {
     "name": "stdout",
     "output_type": "stream",
     "text": [
      "PESQ of n3 dB vs output: 1.875\n",
      "LSD of n3 dB vs output: 15.772\n",
      "PESQ of 0 dB vs output: 1.988\n",
      "LSD of 0 dB vs output: 14.795\n",
      "PESQ of 2 dB vs output: 2.218\n",
      "LSD of 2 dB vs output: 14.438\n",
      "PESQ of 5 dB vs output: 2.362\n",
      "LSD of 5 dB vs output: 13.168\n",
      "PESQ of 7 dB vs output: 2.699\n",
      "LSD of 7 dB vs output: 12.155\n",
      "PESQ of 10 dB vs output: 2.951\n",
      "LSD of 10 dB vs output: 10.841\n"
     ]
    }
   ],
   "source": [
    "for n in num:\n",
    "    rate, tar = wavfile.read(f\"test_target_out_{n}_dB.wav\")\n",
    "    rate, inp = wavfile.read(f\"test_in_{n}_dB.wav\")\n",
    "    rate, out = wavfile.read(f\"test_out_{n}_dB.wav\")\n",
    "    Xinp = np.load(f\"test_in_{n}_dB.npy\")\n",
    "    Xout = np.load(f\"test_out_{n}_dB.npy\")\n",
    "    Xtar = np.load(f\"test_target_out_{n}_dB.npy\")\n",
    "    inpf=Xinp.flatten()\n",
    "    outf=Xout.flatten()\n",
    "    tarf=Xtar.flatten()\n",
    "    in_diff_sq = (tarf-inpf)**2\n",
    "    out_diff_sq = (tarf-outf)**2\n",
    "    in_lsd = np.sqrt(np.mean(in_diff_sq))\n",
    "    out_lsd = np.sqrt(np.mean(out_diff_sq))\n",
    "    print(f\"PESQ of {n} dB vs input:\",  round(pesq(rate,tar[x], inp[x], 'nb'),3))\n",
    "    print(f\"PESQ of {n} dB vs output:\", round(pesq(rate,tar[x], out[x], 'nb'),3))\n",
    "    print(f\"LSD of {n} dB vs input:\",  round(in_lsd,3))\n",
    "    print(f\"LSD of {n} dB vs output:\", round(out_lsd,3))"
   ]
  }
 ],
 "metadata": {
  "kernelspec": {
   "display_name": "Python 3",
   "language": "python",
   "name": "python3"
  },
  "language_info": {
   "codemirror_mode": {
    "name": "ipython",
    "version": 3
   },
   "file_extension": ".py",
   "mimetype": "text/x-python",
   "name": "python",
   "nbconvert_exporter": "python",
   "pygments_lexer": "ipython3",
   "version": "3.8.5"
  }
 },
 "nbformat": 4,
 "nbformat_minor": 4
}
